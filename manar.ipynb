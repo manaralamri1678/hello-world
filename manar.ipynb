{
  "metadata": {
    "language_info": {
      "codemirror_mode": {
        "name": "python",
        "version": 3
      },
      "file_extension": ".py",
      "mimetype": "text/x-python",
      "name": "python",
      "nbconvert_exporter": "python",
      "pygments_lexer": "ipython3",
      "version": "3.8"
    },
    "kernelspec": {
      "name": "python",
      "display_name": "Python (Pyodide)",
      "language": "python"
    }
  },
  "nbformat_minor": 4,
  "nbformat": 4,
  "cells": [
    {
      "cell_type": "markdown",
      "source": "titel the notebook\nData Science Tools",
      "metadata": {}
    },
    {
      "cell_type": "markdown",
      "source": "introduction\nIn this notebook, we will take a look at a variety of tools used in data science. We will cover programming languages, programming libraries, analysis tools, and deployment tools.",
      "metadata": {}
    },
    {
      "cell_type": "markdown",
      "source": "list data science languages\n* Python\n* R\n* Java\n* Scala\n* Julia\n",
      "metadata": {}
    },
    {
      "cell_type": "markdown",
      "source": "list data science libraries\n* NumPy\n* Pandas\n* SciPy\n* Matplotlib\n* Seaborn\n",
      "metadata": {}
    },
    {
      "cell_type": "markdown",
      "source": "table of Data Science tools\n| Python | A general-purpose programming language that is widely used in data science. |\n| R | A programming language and free software environment for statistical computing and graphics supported by the R Foundation for Statistical Computing. |\n| Java | A general-purpose programming language that is known for its portability and security. |\n| Scala | A general-purpose programming language that is known for its expressiveness and conciseness. |\n| Julia | A high-level, high-performance, dynamic programming language for numerical computing. |\n| NumPy | A Python library for scientific computing with Python. |\n| Pandas | A Python library for data manipulation and analysis. |\n| SciPy | A Python library for scientific computing and technical computing. |\n| Matplotlib | A Python library for data visualization. |\n| Seaborn | A Python library for statistical data visualization. |\n",
      "metadata": {}
    },
    {
      "cell_type": "markdown",
      "source": "introducing arithmetic expression examples\nHere are some examples of arithmetic expressions:\n\n* 2 + 2 = 4\n* 5 - 3 = 2\n* 6 * 7 = 42\n* 8 / 4 = 2\n",
      "metadata": {}
    },
    {
      "cell_type": "code",
      "source": " # multiply and add numbers\n\na = 2\nb = 3\n\n# Multiply\nc = a * b\n\n# Add\nd = a + b\n\n# Print the results\nprint(c)\nprint(d)\n    ",
      "metadata": {},
      "execution_count": null,
      "outputs": []
    },
    {
      "cell_type": "code",
      "source": "# convert minutes to hours\nminutes = 60\n\n# Calculate the number of hours\nhours = minutes / 60\n\n# Print the number of hours\nprint(hours)",
      "metadata": {},
      "execution_count": null,
      "outputs": []
    },
    {
      "cell_type": "markdown",
      "source": "list Objectives\n* Learn about a variety of tools used in data science\n* Understand how to use these tools to solve data science problems\n* Create a Jupyterlite notebook that demonstrates the use of these tools",
      "metadata": {}
    },
    {
      "cell_type": "markdown",
      "source": " indicate the Author’s name\n manar ",
      "metadata": {}
    }
  ]
}